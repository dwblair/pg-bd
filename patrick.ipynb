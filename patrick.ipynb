{
 "cells": [
  {
   "cell_type": "code",
   "execution_count": 33,
   "metadata": {},
   "outputs": [],
   "source": [
    "line1='Hdssb Bluwkgdb wr Yrx'\n",
    "line2='Hdssb Bluwkgdb Dhdu Pdwulfn'"
   ]
  },
  {
   "cell_type": "code",
   "execution_count": 34,
   "metadata": {},
   "outputs": [],
   "source": [
    "strs = 'abcdefghijklmnopqrstuvwxyz'      #use a string like this, instead of ord() \n",
    "def shifttext(shift,inputstring):\n",
    "    inp = inputstring\n",
    "    data = []\n",
    "    for i in inp:                     #iterate over the text not some list\n",
    "        if i.strip() and i in strs:                 # if the char is not a space \"\"  \n",
    "            data.append(strs[(strs.index(i) + shift) % 26])    \n",
    "        else:\n",
    "            data.append(i)           #if space the simply append it to data\n",
    "    output = ''.join(data)\n",
    "    return output"
   ]
  },
  {
   "cell_type": "code",
   "execution_count": 35,
   "metadata": {},
   "outputs": [
    {
     "name": "stdout",
     "output_type": "stream",
     "text": [
      "Happy Birthday to You...\n",
      "Happy Birthday to You...\n",
      "Happy Birthday Dear Patrick,\n",
      "Happy Birthday to You!\n"
     ]
    }
   ],
   "source": [
    "for i in range(0,2):\n",
    "    print(shifttext(-3,line1) + \"...\")\n",
    "print(shifttext(-3,line2) + \",\")\n",
    "print(shifttext(-3,line1) + \"!\")"
   ]
  },
  {
   "cell_type": "markdown",
   "metadata": {},
   "source": [
    "# Happy Birthday Patrick!\n",
    "\n",
    "It has been a great pleasure getting to know you. It is a great talent to be able to provide genuine enthusiasm and rich context to any given random idea or line of conversation. \n",
    "\n",
    "It is also a great talent to teach sailing skills and not be upset in the least, and in fact be greatly amused and unflummoxed, when your student suddenly capsizes the boat. \n",
    "\n",
    "<img src=\"https://www.thehulltruth.com/attachment.php?attachmentid=77577&stc=1&d=1245075777\" width=400>\n",
    "\n",
    "Very much looking forward to additional fun chats and adventures in the near future!\n",
    "\n",
    "Cheerio,\n",
    "Don"
   ]
  }
 ],
 "metadata": {
  "kernelspec": {
   "display_name": "Python 3",
   "language": "python",
   "name": "python3"
  },
  "language_info": {
   "codemirror_mode": {
    "name": "ipython",
    "version": 3
   },
   "file_extension": ".py",
   "mimetype": "text/x-python",
   "name": "python",
   "nbconvert_exporter": "python",
   "pygments_lexer": "ipython3",
   "version": "3.6.3"
  }
 },
 "nbformat": 4,
 "nbformat_minor": 2
}
